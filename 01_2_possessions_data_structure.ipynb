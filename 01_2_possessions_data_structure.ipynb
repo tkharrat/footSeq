{
 "cells": [
  {
   "cell_type": "code",
   "execution_count": null,
   "id": "9f9996b5-2dbd-42d2-8f5a-9e56cb091acf",
   "metadata": {},
   "outputs": [],
   "source": [
    "# default_exp datastruct.possessions"
   ]
  },
  {
   "cell_type": "code",
   "execution_count": null,
   "id": "66a69c09-f625-4751-93b8-619d5758f9c9",
   "metadata": {},
   "outputs": [
    {
     "name": "stderr",
     "output_type": "stream",
     "text": [
      "/tmp/ipykernel_104798/2943078347.py:2: UserWarning: IPython.utils.traitlets has moved to a top-level traitlets package.\n",
      "  from IPython.utils import traitlets as _traitlets\n"
     ]
    }
   ],
   "source": [
    "from IPython.core.debugger import set_trace\n",
    "from IPython.utils import traitlets as _traitlets"
   ]
  },
  {
   "cell_type": "markdown",
   "id": "7befdf1c-9f15-43b8-91d9-7752ed95b03f",
   "metadata": {},
   "source": [
    "<h1><center> Possessions Data Structure </center></h1>"
   ]
  },
  {
   "cell_type": "markdown",
   "id": "afaa75c2-7b2b-4b17-ab6c-424e12fd004a",
   "metadata": {},
   "source": [
    "In this module, we provide a class mapping between the `Possessions` document in `mongoDB` and python.\n",
    "\n",
    "\n",
    "The `Possessions` document has a nested structure with:\n",
    "+ some metadata: `gameId`, `possNumber`, `target` and a unique document `_id`\n",
    "+ a List of events stored in the `sequence` field\n",
    "\n",
    "The strategy therefore is to define first an `event` `mongoengine.EmbeddedDocument` and then the `Possession` `mongoengine.Document`"
   ]
  },
  {
   "cell_type": "markdown",
   "id": "e600bcdd-3e76-47ad-a25e-2ad8cc8d1843",
   "metadata": {},
   "source": [
    "# `Event` Embedded Document"
   ]
  },
  {
   "cell_type": "code",
   "execution_count": null,
   "id": "315ef549-e37a-444d-b5c2-5cdd3da5dbe0",
   "metadata": {},
   "outputs": [],
   "source": [
    "# export\n",
    "\n",
    "import datetime\n",
    "\n",
    "import mongoengine\n",
    "import pandas as pd\n",
    "from fastcore.basics import *\n",
    "\n",
    "from footSeq.config.localconfig import CONFIG\n",
    "\n",
    "\n",
    "class Event(mongoengine.EmbeddedDocument):\n",
    "    \"Event mapping class to store event info stored in the `sequence` field\"\n",
    "    event_id = mongoengine.IntField(db_field=\"event_id\")\n",
    "    orig_event_id = mongoengine.StringField(db_field=\"eventId\")\n",
    "\n",
    "    player_id = mongoengine.IntField(db_field=\"player_id\", required=False)\n",
    "    player_name = mongoengine.StringField(\n",
    "        db_field=\"player_name\", required=False, default=\"Unknown\"\n",
    "    )\n",
    "\n",
    "    team_id = mongoengine.IntField(db_field=\"team_id\")\n",
    "    team_name = mongoengine.StringField(db_field=\"team_name\")\n",
    "\n",
    "    possession_id = mongoengine.IntField(db_field=\"poss_id\", required=True)\n",
    "    possession_name = mongoengine.StringField(db_field=\"possession_name\", required=True)\n",
    "    possession_team_id = mongoengine.IntField(\n",
    "        db_field=\"possession_team_id\", required=True\n",
    "    )\n",
    "    possession_number = mongoengine.IntField(\n",
    "        db_field=\"possession_number\", required=True\n",
    "    )\n",
    "    seconds_since_poss = mongoengine.FloatField(\n",
    "        db_field=\"seconds_since_poss\", min_value=0.0, required=True\n",
    "    )\n",
    "    standart_name = mongoengine.StringField(db_field=\"standart_name\", required=True)\n",
    "\n",
    "    period_id = mongoengine.IntField(\n",
    "        db_field=\"period_id\", required=True, min_value=1, max_value=2\n",
    "    )\n",
    "    time_seconds = mongoengine.FloatField(db_field=\"time_seconds\", required=True)\n",
    "\n",
    "    attack_status_name = mongoengine.StringField(\n",
    "        db_field=\"attack_status_name\", required=True\n",
    "    )\n",
    "    attack_type_name = mongoengine.StringField(\n",
    "        db_field=\"Positional attack\", required=True\n",
    "    )\n",
    "    attack_team_id = mongoengine.StringField(db_field=\"attack_team_id\", required=True)\n",
    "\n",
    "    action_id = mongoengine.IntField(db_field=\"action_id\", required=True)\n",
    "    type_name = mongoengine.StringField(\n",
    "        db_field=\"Attacking pass accurate\", required=True\n",
    "    )\n",
    "    result_id = mongoengine.IntField(\n",
    "        db_field=\"result_id\", required=True, min_value=-1, max_value=1\n",
    "    )\n",
    "    result_name = mongoengine.StringField(db_field=\"result_name\", required=True)\n",
    "    generic_action_type_id = mongoengine.IntField(\n",
    "        db_field=\"generic_action_type_id\", required=True\n",
    "    )\n",
    "    generic_action_type_name = mongoengine.StringField(\n",
    "        db_field=\"generic_action_type_name\", required=True\n",
    "    )\n",
    "\n",
    "    under_pressure = mongoengine.BooleanField(db_field=\"under_pressure\", required=True)\n",
    "    high_speed = mongoengine.BooleanField(db_field=\"high_speed\", required=True)\n",
    "\n",
    "    ## we allow extra meters to adjust pitch coordinates\n",
    "    x = mongoengine.FloatField(db_field=\"start_x\", min_value=-1, max_value=107)\n",
    "    y = mongoengine.FloatField(db_field=\"start_y\", min_value=-1, max_value=70)\n",
    "    end_x = mongoengine.FloatField(db_field=\"end_x\", min_value=-1, max_value=107)\n",
    "    end_y = mongoengine.FloatField(db_field=\"end_y\", min_value=-1, max_value=70)\n",
    "\n",
    "    gate_x = mongoengine.FloatField(db_field=\"gate_x\", required=False)\n",
    "    gate_y = mongoengine.FloatField(db_field=\"gate_y\", required=False)\n",
    "\n",
    "    body_name = mongoengine.StringField(\n",
    "        db_field=\"body_name\", required=False, default=\"Unknown\"\n",
    "    )\n",
    "    is_poss_team = mongoengine.BooleanField(db_field=\"is_poss_team\", required=True)\n",
    "    is_att_team = mongoengine.BooleanField(db_field=\"is_att_team\", required=True)\n",
    "\n",
    "\n",
    "def _convert_event(eve: Event):\n",
    "    return pd.DataFrame({x: eve[x] for x in eve}, index=[0])"
   ]
  },
  {
   "cell_type": "markdown",
   "id": "cfa53e6d-2161-4eff-867e-7ae9dc491d13",
   "metadata": {},
   "source": [
    "# The `Possession` Document"
   ]
  },
  {
   "cell_type": "code",
   "execution_count": null,
   "id": "77ed4fc4-34fa-4cf6-822c-44f6b833bd13",
   "metadata": {},
   "outputs": [],
   "source": [
    "# export\n",
    "\n",
    "\n",
    "class Possession(mongoengine.Document):\n",
    "    \"\"\"\n",
    "    Store the `Possession` document info\n",
    "\n",
    "    Attributes\n",
    "    ----------\n",
    "    _id : str\n",
    "        unique document identifier\n",
    "    gameId : int\n",
    "        game-identifier\n",
    "    possNumber : int\n",
    "        possession number\n",
    "    target : str\n",
    "        whether the possession ended up in a `goal` or `no-goal`\n",
    "    \"sequence\": List[Event]\n",
    "        list of event information\n",
    "\n",
    "    \"\"\"\n",
    "\n",
    "    game_id = mongoengine.IntField(db_field=\"gameId\", required=True)\n",
    "    possession_number = mongoengine.IntField(db_field=\"possNumber\", required=True)\n",
    "    target = mongoengine.StringField(db_field=\"target\", choices=(\"goal\", \"no-goal\"))\n",
    "    sequence = mongoengine.EmbeddedDocumentListField(Event)\n",
    "\n",
    "    meta = {\n",
    "        \"db_alias\": \"inStat\",\n",
    "        \"collection\": CONFIG[\"connections\"][\"inStat\"][\"possessions\"],\n",
    "    }\n",
    "\n",
    "    def _format_poss(_raw_obj):\n",
    "        return pd.DataFrame(\n",
    "            {\n",
    "                \"gameId\": _raw_obj.game_id,\n",
    "                \"possessionNumber\": _raw_obj.possession_number,\n",
    "                \"target\": _raw_obj.target,\n",
    "                \"sequence\": listify(\n",
    "                    pd.concat([_convert_event(eve) for eve in _raw_obj.sequence])\n",
    "                    .reset_index(drop=True)\n",
    "                    .sort_values([\"period_id\", \"time_seconds\"])\n",
    "                ),\n",
    "            },\n",
    "            index=[0],\n",
    "        )\n",
    "\n",
    "    @classmethod\n",
    "    def get_game_poss(cls, gm_id: int, poss_nbr: int) -> pd.DataFrame:\n",
    "        \"extract information for a given possession in a game\"\n",
    "        return cls._format_poss(\n",
    "            cls.objects(game_id=gm_id, possession_number=poss_nbr).first()\n",
    "        )\n",
    "\n",
    "    @classmethod\n",
    "    def get_all_game_poss(cls, gm_id: int):\n",
    "        \"extract all possessions for a game\"\n",
    "        return (\n",
    "            pd.concat(\n",
    "                [cls._format_poss(_raw_obj) for _raw_obj in cls.objects(game_id=gm_id)]\n",
    "            )\n",
    "            .reset_index(drop=True)\n",
    "            .sort_values([\"possessionNumber\"])\n",
    "        )"
   ]
  },
  {
   "cell_type": "code",
   "execution_count": null,
   "id": "4a19f6b6-a441-4525-8d93-2fd745ed1c3c",
   "metadata": {},
   "outputs": [],
   "source": [
    "from footSeq.config.mongo import mongo_init\n",
    "\n",
    "mongo_init(\"prod_atlas\")\n",
    "\n",
    "poss = Possession.get_all_game_poss(gm_id=1998205)"
   ]
  },
  {
   "cell_type": "code",
   "execution_count": null,
   "id": "d24a8c56-b5a8-41cf-a30b-d3d6a2a532cd",
   "metadata": {},
   "outputs": [
    {
     "data": {
      "text/plain": [
       "Index(['event_id', 'orig_event_id', 'player_id', 'player_name', 'team_id',\n",
       "       'team_name', 'possession_id', 'possession_name', 'possession_team_id',\n",
       "       'possession_number', 'seconds_since_poss', 'standart_name', 'period_id',\n",
       "       'time_seconds', 'attack_status_name', 'attack_type_name',\n",
       "       'attack_team_id', 'action_id', 'type_name', 'result_id', 'result_name',\n",
       "       'generic_action_type_id', 'generic_action_type_name', 'under_pressure',\n",
       "       'high_speed', 'x', 'y', 'end_x', 'end_y', 'gate_x', 'gate_y',\n",
       "       'body_name', 'is_poss_team', 'is_att_team'],\n",
       "      dtype='object')"
      ]
     },
     "execution_count": null,
     "metadata": {},
     "output_type": "execute_result"
    }
   ],
   "source": [
    "poss.sequence[0].columns"
   ]
  },
  {
   "cell_type": "code",
   "execution_count": null,
   "id": "6f8b8cfc-4dba-4d1d-92cb-35d0fc61256d",
   "metadata": {},
   "outputs": [],
   "source": [
    "['event_id', 'player_id', 'player_name', 'team_id', 'team_name',\n",
    "       'period_id', 'time_seconds', 'standart_name', 'possession_name',\n",
    "       'possession_team_id', 'possession_number', 'attack_status_name',\n",
    "       'attack_type_name', 'attack_team_id', 'under_pressure', 'high_speed',\n",
    "       'action_id', 'type_name', 'result_id', 'generic_action_type_id',\n",
    "       'generic_action_type_name', 'start_x', 'start_y', 'end_x', 'end_y',\n",
    "       'body_name', 'gate_x', 'gate_y', 'result_name', 'seconds_since_poss',\n",
    "       'is_poss_team', 'is_att_team', '_id', 'proba_goal', 'proba_no-goal']"
   ]
  }
 ],
 "metadata": {
  "kernelspec": {
   "display_name": "Python 3 (ipykernel)",
   "language": "python",
   "name": "python3"
  }
 },
 "nbformat": 4,
 "nbformat_minor": 5
}
