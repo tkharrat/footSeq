{
 "cells": [
  {
   "cell_type": "code",
   "execution_count": null,
   "metadata": {},
   "outputs": [],
   "source": [
    "# default_exp config.localconfig"
   ]
  },
  {
   "cell_type": "markdown",
   "metadata": {},
   "source": [
    "<h1><center>Config</center></h1>\n",
    "\n",
    "A set of tool-functions to assist in computations, database connection and data manipulation."
   ]
  },
  {
   "cell_type": "markdown",
   "metadata": {},
   "source": [
    "# Load Config\n",
    "The config file for this project is defined in `toml` format and should be loaded at the start of this project. It is saved by default under `/secrets/config.toml`. It is the user responsability to make sure this file is saved at the right location"
   ]
  },
  {
   "cell_type": "code",
   "execution_count": null,
   "metadata": {},
   "outputs": [],
   "source": [
    "# export\n",
    "import toml\n",
    "import logging\n",
    "\n",
    "# Read local `config.toml` file.\n",
    "CONFIG = toml.load(\"/secrets/config.toml\")\n",
    "\n",
    "## defined database hosts\n",
    "DB_HOSTS = set([db for db in CONFIG[\"databases\"]])\n",
    "\n",
    "## config\n",
    "logging.basicConfig(level=logging.INFO, format='%(asctime)s - %(message)s', datefmt='%Y-%m-%d %H:%M:%S')"
   ]
  },
  {
   "cell_type": "code",
   "execution_count": null,
   "metadata": {},
   "outputs": [],
   "source": []
  }
 ],
 "metadata": {
  "kernelspec": {
   "display_name": "Python 3 (ipykernel)",
   "language": "python",
   "name": "python3"
  }
 },
 "nbformat": 4,
 "nbformat_minor": 4
}
