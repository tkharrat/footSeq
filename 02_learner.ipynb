{
 "cells": [
  {
   "cell_type": "code",
   "execution_count": null,
   "id": "2834f7d1-9ca3-42f8-95e9-d15b7199833b",
   "metadata": {},
   "outputs": [],
   "source": [
    "# default_exp model.learner"
   ]
  },
  {
   "cell_type": "code",
   "execution_count": null,
   "id": "d1ec7392-3601-4c0f-a89b-1ef9274fdfbc",
   "metadata": {},
   "outputs": [
    {
     "name": "stderr",
     "output_type": "stream",
     "text": [
      "/tmp/ipykernel_3321999/2943078347.py:2: UserWarning: IPython.utils.traitlets has moved to a top-level traitlets package.\n",
      "  from IPython.utils import traitlets as _traitlets\n"
     ]
    }
   ],
   "source": [
    "from IPython.core.debugger import set_trace\n",
    "from IPython.utils import traitlets as _traitlets"
   ]
  },
  {
   "cell_type": "markdown",
   "id": "6353da3f-4db4-4568-bbed-a38ea08ac9c9",
   "metadata": {},
   "source": [
    "<h1><center> Learner </center></h1>"
   ]
  },
  {
   "cell_type": "markdown",
   "id": "cc627321-b834-4f33-84cf-c9428038133e",
   "metadata": {},
   "source": [
    "In this module, we define the model architecture that we will use in our learner. It will be based on [`tsai`](https://github.com/timeseriesAI/tsai) models with a simple tweak: ability to handle categorical features.\n",
    "\n",
    "The strategy to build our model is fairly simple:\n",
    "+ apply a specific 'Embedding` layer to each categorical feature\n",
    "+ concatenate the outcome of the embedding layers with the continuous features\n",
    "+ pass the resulting tensor to a `tsai` existing model\n",
    "The first 2 steps can be handled by the *head* of the network which can be seen as a layer.\n",
    "\n",
    "Once the architecture defined, we can define our learner in the usual way and benefit from `fastai` training loop."
   ]
  },
  {
   "cell_type": "code",
   "execution_count": null,
   "id": "6db5a01a-5270-47cc-8708-e2c53a4c925c",
   "metadata": {},
   "outputs": [],
   "source": [
    "# export\n",
    "import os\n",
    "import pickle\n",
    "import warnings\n",
    "from random import sample\n",
    "from typing import List, Tuple\n",
    "\n",
    "import numpy as np\n",
    "import pandas as pd\n",
    "import progressbar\n",
    "from fastai.layers import trunc_normal_\n",
    "from fastai.tabular.all import *\n",
    "from fastai.text.all import *\n",
    "from fastcore.basics import *\n",
    "\n",
    "from footSeq.datastruct.core import *"
   ]
  },
  {
   "cell_type": "code",
   "execution_count": null,
   "id": "0bebdf68-2ef7-4a95-9c9c-a2a770d4aff5",
   "metadata": {},
   "outputs": [],
   "source": [
    "data_path = \"./data\"\n",
    "target_data = pickle.load(open(os.path.join(data_path, \"targets.pkl\"), \"rb\"))\n",
    "df_main = pd.read_pickle(os.path.join(data_path, \"sequences_df.pkl\")).reset_index()"
   ]
  },
  {
   "cell_type": "code",
   "execution_count": null,
   "id": "a65dce9f-27bb-4898-955c-7c227ac3bcc4",
   "metadata": {},
   "outputs": [],
   "source": [
    "## available playing ids\n",
    "seq_ids = L(set(df_main[\"_id\"].tolist()) & set(target_data.keys()))\n",
    "labels = L(target_data.values()).unique()"
   ]
  },
  {
   "cell_type": "code",
   "execution_count": null,
   "id": "0db61eea-aeb0-4b9b-9646-f65676f36805",
   "metadata": {},
   "outputs": [],
   "source": [
    "lbl2ids = {l: L(k for k, v in target_data.items() if v == l) for l in labels}\n",
    "ids2size = df_main.groupby(\"_id\").size().to_dict()"
   ]
  },
  {
   "cell_type": "markdown",
   "id": "9c411666-154d-49e7-ae99-ce242a14fbe6",
   "metadata": {},
   "source": [
    "In order to test our different examples, let's prepare a batch of data:"
   ]
  },
  {
   "cell_type": "code",
   "execution_count": null,
   "id": "1c7992ce-db19-4ca2-9e6d-b36c99758f26",
   "metadata": {},
   "outputs": [
    {
     "data": {
      "text/plain": [
       "(tensor([[[ 6,  1,  3,  1,  1,  1,  2,  5],\n",
       "          [15,  1,  3,  1,  1,  1,  2,  5],\n",
       "          [ 6,  1,  3,  1,  1,  1,  2,  5],\n",
       "          [15,  1,  3,  1,  1,  1,  2,  5],\n",
       "          [ 6,  1,  3,  1,  1,  1,  2,  5],\n",
       "          [15,  1,  3,  1,  1,  1,  2,  5],\n",
       "          [ 6,  1,  3,  1,  1,  1,  2,  5],\n",
       "          [15,  1,  3,  1,  1,  1,  2,  5],\n",
       "          [ 6,  1,  3,  1,  1,  1,  2,  5],\n",
       "          [15,  1,  3,  1,  1,  1,  2,  5]],\n",
       " \n",
       "         [[15,  1,  6,  1,  1,  1,  2,  5],\n",
       "          [15,  1,  6,  1,  1,  1,  2,  5],\n",
       "          [15,  1,  6,  1,  1,  1,  2,  5],\n",
       "          [ 6,  1,  6,  1,  1,  1,  2,  5],\n",
       "          [15,  3,  6,  1,  1,  1,  2,  5],\n",
       "          [ 6,  1,  6,  1,  2,  1,  2,  5],\n",
       "          [15,  1,  6,  1,  2,  1,  2,  5],\n",
       "          [ 6,  1,  6,  1,  2,  1,  2,  5],\n",
       "          [15,  1,  6,  1,  2,  1,  2,  5],\n",
       "          [15,  1,  6,  1,  1,  1,  2,  5]],\n",
       " \n",
       "         [[15,  1,  7,  1,  1,  1,  2,  5],\n",
       "          [ 6,  1,  7,  1,  1,  1,  2,  5],\n",
       "          [15,  1,  7,  1,  1,  1,  2,  5],\n",
       "          [ 6,  1,  7,  1,  1,  1,  2,  5],\n",
       "          [15,  1,  7,  1,  1,  1,  2,  5],\n",
       "          [ 6,  1,  7,  1,  1,  1,  2,  5],\n",
       "          [15,  1,  7,  1,  1,  1,  2,  5],\n",
       "          [ 6,  1,  7,  1,  1,  1,  2,  5],\n",
       "          [15,  1,  7,  1,  1,  1,  2,  5],\n",
       "          [ 6,  1,  7,  1,  1,  1,  2,  5]]], device='cuda:0'),\n",
       " tensor([[[-0.5608,  0.6991, -0.5657,  0.7094, -1.2093, -0.0855],\n",
       "          [-0.5533,  0.6991, -0.4965,  1.2346, -1.2069,  0.0494],\n",
       "          [-0.4854,  1.2167, -0.4965,  1.2346, -1.2057,  0.1168],\n",
       "          [-0.4854,  1.2167, -0.8078,  1.6296, -1.2057,  0.1168],\n",
       "          [-0.7909,  1.6059, -0.8078,  1.6296, -1.2045,  0.1843],\n",
       "          [-0.7909,  1.6059, -0.3736,  1.3603, -1.2045,  0.1843],\n",
       "          [-0.3647,  1.3405, -0.6041,  1.3603, -1.2021,  0.3192],\n",
       "          [-0.5910,  1.3405, -0.2660,  0.8710, -1.1997,  0.4541],\n",
       "          [-0.2591,  0.8583, -0.1699,  0.6690, -1.1997,  0.4541],\n",
       "          [-0.1649,  0.6593, -0.7886,  0.4087, -1.1972,  0.5890]],\n",
       " \n",
       "         [[-0.0593,  0.0267,  0.0184, -0.0626, -0.6654, -0.8274],\n",
       "          [ 0.0199, -0.1459,  0.3258, -1.5035, -0.6642, -0.7600],\n",
       "          [ 0.2651, -1.4995, -0.1930, -1.6067, -0.6617, -0.6251],\n",
       "          [-0.1875, -1.5836, -0.1930, -1.6067, -0.6605, -0.5576],\n",
       "          [-0.1875, -1.5836, -0.7310, -1.3554, -0.6605, -0.5576],\n",
       "          [-0.7155, -1.3359, -0.7579, -1.3644, -0.6593, -0.4902],\n",
       "          [-0.7419, -1.3447, -0.4351, -1.4586, -0.6593, -0.4902],\n",
       "          [-0.4251, -1.4376, -0.3544, -1.0412, -0.6569, -0.3553],\n",
       "          [-0.3459, -1.0262,  0.0607, -0.3050, -0.6557, -0.2878],\n",
       "          [ 0.0614, -0.3007, -0.9116,  1.1942, -0.6521, -0.0855]],\n",
       " \n",
       "         [[ 0.2236,  0.5885,  0.7908,  1.7912,  1.5383, -0.0180],\n",
       "          [ 0.7780,  1.7652,  0.7831,  1.8092,  1.5395,  0.0494],\n",
       "          [ 0.7704,  1.7829,  1.2750,  1.0955,  1.5407,  0.1168],\n",
       "          [ 1.2532,  1.0795,  1.3173,  1.1763,  1.5431,  0.2517],\n",
       "          [ 1.2946,  1.1591,  0.9676,  0.6780,  1.5443,  0.3192],\n",
       "          [ 0.9515,  0.6681,  0.9292,  0.6735,  1.5467,  0.4541],\n",
       "          [ 0.9137,  0.6637,  0.4219,  0.7723,  1.5479,  0.5215],\n",
       "          [ 0.4159,  0.7610,  0.4373,  0.8037,  1.5491,  0.5890],\n",
       "          [ 0.4310,  0.7920,  0.9100,  1.2077,  1.5515,  0.7239],\n",
       "          [ 0.8949,  1.1901,  0.6679,  1.2840,  1.5540,  0.8588]]],\n",
       "        device='cuda:0'),\n",
       " TensorCategory([1, 1, 1], device='cuda:0'))"
      ]
     },
     "execution_count": null,
     "metadata": {},
     "output_type": "execute_result"
    }
   ],
   "source": [
    "cat_names = [\n",
    "    \"type_name\",\n",
    "    \"bodypart_name\",\n",
    "    \"play_pattern_name\",\n",
    "    \"is_home\",\n",
    "    \"under_pressure\",\n",
    "    \"counterpress\",\n",
    "    \"is_poss_team\",\n",
    "    \"result_name\",\n",
    "]\n",
    "cont_names = [\n",
    "    \"start_x\",\n",
    "    \"start_y\",\n",
    "    \"end_x\",\n",
    "    \"end_y\",\n",
    "    \"time_seconds\",\n",
    "    \"seconds_since_poss\",\n",
    "]\n",
    "\n",
    "## splits\n",
    "splits_ids = RandomSplitter()(seq_ids)\n",
    "\n",
    "## fitst transform inspired from tabular pandas\n",
    "procs = [Categorify, FillMissing, Normalize]\n",
    "foot_tfm = FootSeqTransform(\n",
    "    sequence_df=df_main,\n",
    "    target_dict=target_data,\n",
    "    ids=seq_ids,\n",
    "    splits=splits_ids,\n",
    "    labels=labels,\n",
    "    procs=procs,\n",
    "    cat_names=cat_names,\n",
    "    cont_names=cont_names,\n",
    ")\n",
    "\n",
    "## to-tensor transform\n",
    "to_tsr = FootSeqToTensor(cat_names, cont_names, max_len=10)\n",
    "\n",
    "## tfmdlist\n",
    "tls = TfmdLists(seq_ids, [foot_tfm, to_tsr], splits=splits_ids)\n",
    "\n",
    "## datalodaers\n",
    "train_seq_lens = L(min(ids2size[_id], 10) for _id in seq_ids[splits_ids[0]])\n",
    "valid_seq_lens = L(min(ids2size[_id], 10) for _id in seq_ids[splits_ids[1]])\n",
    "\n",
    "\n",
    "## pass the training dataset sequence lengths to SortedDL\n",
    "srtd_dl = partial(SortedDL, res=train_seq_lens)\n",
    "\n",
    "## Pass the validation dataset seq lengths\n",
    "dl_kwargs = [{}, {\"val_res\": valid_seq_lens}]\n",
    "\n",
    "## re-initialise dataloaders\n",
    "srtd_dls = tls.dataloaders(\n",
    "    bs=3, before_batch=pad_seq, dl_type=srtd_dl, dl_kwargs=dl_kwargs\n",
    ")\n",
    "\n",
    "##sample a batch\n",
    "srtd_batch = srtd_dls.one_batch()\n",
    "\n",
    "srtd_batch"
   ]
  },
  {
   "cell_type": "markdown",
   "id": "9bdcae71-fb8c-4003-98a3-531bc82c6103",
   "metadata": {},
   "source": [
    "# Model"
   ]
  },
  {
   "cell_type": "markdown",
   "id": "85718469-c267-44e0-a7ca-f02211bf6ca5",
   "metadata": {},
   "source": [
    "## Embedding"
   ]
  },
  {
   "cell_type": "code",
   "execution_count": null,
   "id": "b09788d1-2644-4a24-8ccc-00d349e6f681",
   "metadata": {},
   "outputs": [],
   "source": [
    "# export\n",
    "\n",
    "\n",
    "@delegates()\n",
    "class Embedding(nn.Embedding):\n",
    "    \"\"\"\n",
    "    Embedding layer compatible with full pytorch API and truncated normal initialization\n",
    "\n",
    "    Parameters\n",
    "    ----------\n",
    "    ni, nf: int\n",
    "        input and output size of Embedding layer. It is the same\n",
    "        as `num_embeddings` and `embedding_dim` in `torch.nn.Embedding()` module\n",
    "    kwargs: dict\n",
    "        Any argument accepted by `torch.nn.Embedding()` module\n",
    "        a part from `num_embeddings` and `embedding_dim`\n",
    "    std: float\n",
    "        standard deviation applied in the truncated normal\n",
    "\n",
    "    \"\"\"\n",
    "\n",
    "    def __init__(self, ni, nf, std=0.01, **kwargs):\n",
    "        kwargs[\"num_embeddings\"], kwargs[\"embedding_dim\"] = ni, nf\n",
    "        super().__init__(**kwargs)\n",
    "        trunc_normal_(self.weight.data.cuda(), std=std)\n",
    "\n",
    "\n",
    "class MultiEmbedding(Module):\n",
    "    \"\"\"\n",
    "    Muti-dimesnion Embedding layer\n",
    "\n",
    "    Attributes\n",
    "    ----------\n",
    "    cat_embed: torch.nn.ModuleList\n",
    "        list of Embedding modules in the order in which categorical data appear\n",
    "\n",
    "    \"\"\"\n",
    "\n",
    "    def __init__(\n",
    "        self,\n",
    "        n_embeds: List[int],\n",
    "        embed_dims: List[int] = None,\n",
    "        n_cont: int =0,\n",
    "        std: float = 0.01,\n",
    "        **kwargs\n",
    "    ):\n",
    "        \"\"\"\n",
    "        Initialise the various embedding sizes\n",
    "\n",
    "        Parameters\n",
    "        ----------\n",
    "        n_embdes: List[int]\n",
    "            length of the vocabulary of each categorical feature in the same order as passed in the tensor\n",
    "\n",
    "        embed_dims: List[int]\n",
    "            required size of each categorical feature embedding in the same order as passed in the tensor\n",
    "            \n",
    "        n_cont: int, optional\n",
    "            number of continuous features\n",
    "\n",
    "        std: float\n",
    "            standard deviation applied in the truncated normal\n",
    "        kwargs: dict\n",
    "            extra parameters passed to the embedding layer. Should be\n",
    "            compatible with `torch.nn.Embedding()`\n",
    "\n",
    "        \"\"\"\n",
    "        assert n_cont >=0, \"number of continuous features should be positive\"\n",
    "        self.n_cont = n_cont\n",
    "        ## verify embedding size\n",
    "        if embed_dims is None:\n",
    "            embed_dims = [emb_sz_rule(s) for s in n_embeds]\n",
    "        else:\n",
    "            embed_dims = listify(embed_dims)\n",
    "            if len(embed_dims) == 1:\n",
    "                embed_dims = embed_dims * len(n_embeds)\n",
    "            assert len(embed_dims) == len(n_embeds)\n",
    "\n",
    "        self.cat_embed = nn.ModuleList(\n",
    "            [\n",
    "                Embedding(ni=n, nf=d, std=std, **kwargs)\n",
    "                for n, d in zip(n_embeds, embed_dims)\n",
    "            ]\n",
    "        )\n",
    "\n",
    "    def forward(self, x_cat, x_cont=None):\n",
    "        x_cat = torch.cat([e(x_cat[..., i]) for i, e in enumerate(self.cat_embed)], -1)\n",
    "        if self.n_cont != 0:\n",
    "            x_cat = torch.cat([x_cat, x_cont], -1)\n",
    "        return x_cat"
   ]
  },
  {
   "cell_type": "markdown",
   "id": "f301e8c4-b83b-4839-959c-4dc2dbdb91c4",
   "metadata": {},
   "source": [
    "In order to test this layer, we need to find the vocabulary size of each categorical variable and pass it in `n_embeds`:"
   ]
  },
  {
   "cell_type": "code",
   "execution_count": null,
   "id": "870b1925-1aea-446e-968e-734d815630fb",
   "metadata": {},
   "outputs": [
    {
     "data": {
      "text/plain": [
       "((#8) ['type_name','bodypart_name','play_pattern_name','is_home','under_pressure','counterpress','is_poss_team','result_name'],\n",
       " [22, 4, 10, 3, 3, 3, 3, 7])"
      ]
     },
     "execution_count": null,
     "metadata": {},
     "output_type": "execute_result"
    }
   ],
   "source": [
    "n_embeds = [len(tls.to.classes[n]) for n in tls.to.cat_names]\n",
    "(tls.to.cat_names, n_embeds)"
   ]
  },
  {
   "cell_type": "markdown",
   "id": "8cdd0819-128e-4b94-9ca1-c07e3545b5bc",
   "metadata": {},
   "source": [
    "Now let's initialize the layer and check that it works as expected:"
   ]
  },
  {
   "cell_type": "code",
   "execution_count": null,
   "id": "b2d9935a-1a38-4b8e-abfa-e27a47456fcd",
   "metadata": {},
   "outputs": [],
   "source": [
    "n_cont = srtd_batch[1].shape[-1]\n",
    "multi_em = MultiEmbedding(n_embeds=n_embeds, n_cont=n_cont).cuda()\n",
    "tsr_em = multi_em(srtd_batch[0], srtd_batch[1])\n",
    "test_eq(\n",
    "    tsr_em.shape[-1],\n",
    "    L(w.weight.shape[-1] for w in multi_em.cat_embed).sum() + n_cont,\n",
    ")"
   ]
  },
  {
   "cell_type": "markdown",
   "id": "d006ceb6-392b-4988-bf30-39fd6f6b5c31",
   "metadata": {},
   "source": [
    "Now let's investigate how we can use the `padding_idx` option. This can be very useful to avoid training useless weight corresponding to padding values. Let's first create a batch with some padded values:"
   ]
  },
  {
   "cell_type": "code",
   "execution_count": null,
   "id": "cda6af76-9af5-4b98-8dd4-673cdfff55f6",
   "metadata": {},
   "outputs": [
    {
     "data": {
      "text/plain": [
       "tensor([[ 6,  1,  9,  2,  1,  1,  2,  5],\n",
       "        [15,  1,  9,  2,  1,  1,  2,  5],\n",
       "        [ 6,  1,  9,  2,  1,  1,  2,  5],\n",
       "        [15,  1,  9,  2,  1,  1,  2,  5],\n",
       "        [ 6,  1,  9,  2,  1,  1,  2,  5],\n",
       "        [15,  1,  9,  2,  1,  1,  2,  5],\n",
       "        [ 6,  1,  9,  2,  1,  1,  2,  5],\n",
       "        [15,  1,  9,  2,  1,  1,  2,  5],\n",
       "        [ 6,  1,  9,  2,  1,  1,  2,  5],\n",
       "        [15,  1,  9,  2,  1,  1,  2,  5]], device='cuda:0')"
      ]
     },
     "execution_count": null,
     "metadata": {},
     "output_type": "execute_result"
    }
   ],
   "source": [
    "reg_dls = tls.dataloaders(bs=5, before_batch=pad_seq)\n",
    "padded_batch = reg_dls.one_batch()\n",
    "padded_batch[0][0]"
   ]
  },
  {
   "cell_type": "code",
   "execution_count": null,
   "id": "3e130ffa-0c2b-4483-b02f-83b8540e4bec",
   "metadata": {},
   "outputs": [
    {
     "data": {
      "text/plain": [
       "tensor([[-0.5199, -1.4598,  1.4809, -0.5296, -1.4100,  2.5280,  0.5804, -0.9284,\n",
       "          0.9980, -0.7382,  0.5828,  0.6865, -0.5352, -0.3123, -1.2477, -1.6916,\n",
       "         -2.0771,  0.9703, -0.6094,  1.4018, -0.1036,  0.5364, -1.7615, -1.5067,\n",
       "         -0.5230,  0.5667, -1.6076, -0.5847, -0.4096, -1.3761,  0.6366,  0.2417,\n",
       "         -0.3364, -1.6510, -0.0459,  0.0501,  1.6502,  0.0491,  1.6745, -0.2641,\n",
       "         -0.3553],\n",
       "        [-0.1981,  1.0633,  0.9373, -1.5942,  0.1827, -0.7031,  0.0292, -0.7047,\n",
       "          0.1495, -0.7382,  0.5828,  0.6865, -0.5352, -0.3123, -1.2477, -1.6916,\n",
       "         -2.0771,  0.9703, -0.6094,  1.4018, -0.1036,  0.5364, -1.7615, -1.5067,\n",
       "         -0.5230,  0.5667, -1.6076, -0.5847, -0.4096, -1.3761,  0.6366,  0.2417,\n",
       "         -0.3364, -1.6510, -0.0459,  0.0501,  1.6502, -0.1199,  1.1134, -0.2628,\n",
       "         -0.2878],\n",
       "        [-0.5199, -1.4598,  1.4809, -0.5296, -1.4100,  2.5280,  0.5804, -0.9284,\n",
       "          0.9980, -0.7382,  0.5828,  0.6865, -0.5352, -0.3123, -1.2477, -1.6916,\n",
       "         -2.0771,  0.9703, -0.6094,  1.4018, -0.1036,  0.5364, -1.7615, -1.5067,\n",
       "         -0.5230,  0.5667, -1.6076, -0.5847, -0.4096, -1.3761,  0.6366,  0.2417,\n",
       "         -0.3364, -1.6510, -0.0459, -0.1158,  1.0972,  0.0338,  0.8306, -0.2616,\n",
       "         -0.2204],\n",
       "        [-0.1981,  1.0633,  0.9373, -1.5942,  0.1827, -0.7031,  0.0292, -0.7047,\n",
       "          0.1495, -0.7382,  0.5828,  0.6865, -0.5352, -0.3123, -1.2477, -1.6916,\n",
       "         -2.0771,  0.9703, -0.6094,  1.4018, -0.1036,  0.5364, -1.7615, -1.5067,\n",
       "         -0.5230,  0.5667, -1.6076, -0.5847, -0.4096, -1.3761,  0.6366,  0.2417,\n",
       "         -0.3364, -1.6510, -0.0459,  0.0350,  0.8185,  0.3796, -1.5843, -0.2592,\n",
       "         -0.0855],\n",
       "        [-0.5199, -1.4598,  1.4809, -0.5296, -1.4100,  2.5280,  0.5804, -0.9284,\n",
       "          0.9980, -0.7382,  0.5828,  0.6865, -0.5352, -0.3123, -1.2477, -1.6916,\n",
       "         -2.0771,  0.9703, -0.6094,  1.4018, -0.1036,  0.5364, -1.7615, -1.5067,\n",
       "         -0.5230,  0.5667, -1.6076, -0.5847, -0.4096, -1.3761,  0.6366,  0.2417,\n",
       "         -0.3364, -1.6510, -0.0459,  0.3744, -1.5615,  0.3412, -0.9020, -0.2556,\n",
       "          0.1168],\n",
       "        [-0.1981,  1.0633,  0.9373, -1.5942,  0.1827, -0.7031,  0.0292, -0.7047,\n",
       "          0.1495, -0.7382,  0.5828,  0.6865, -0.5352, -0.3123, -1.2477, -1.6916,\n",
       "         -2.0771,  0.9703, -0.6094,  1.4018, -0.1036,  0.5364, -1.7615, -1.5067,\n",
       "         -0.5230,  0.5667, -1.6076, -0.5847, -0.4096, -1.3761,  0.6366,  0.2417,\n",
       "         -0.3364, -1.6510, -0.0459,  0.3367, -0.8891,  0.3681, -0.4621, -0.2508,\n",
       "          0.3866],\n",
       "        [-0.5199, -1.4598,  1.4809, -0.5296, -1.4100,  2.5280,  0.5804, -0.9284,\n",
       "          0.9980, -0.7382,  0.5828,  0.6865, -0.5352, -0.3123, -1.2477, -1.6916,\n",
       "         -2.0771,  0.9703, -0.6094,  1.4018, -0.1036,  0.5364, -1.7615, -1.5067,\n",
       "         -0.5230,  0.5667, -1.6076, -0.5847, -0.4096, -1.3761,  0.6366,  0.2417,\n",
       "         -0.3364, -1.6510, -0.0459,  0.3631, -0.4555,  0.3681, -0.4621, -0.2496,\n",
       "          0.4541],\n",
       "        [-0.1981,  1.0633,  0.9373, -1.5942,  0.1827, -0.7031,  0.0292, -0.7047,\n",
       "          0.1495, -0.7382,  0.5828,  0.6865, -0.5352, -0.3123, -1.2477, -1.6916,\n",
       "         -2.0771,  0.9703, -0.6094,  1.4018, -0.1036,  0.5364, -1.7615, -1.5067,\n",
       "         -0.5230,  0.5667, -1.6076, -0.5847, -0.4096, -1.3761,  0.6366,  0.2417,\n",
       "         -0.3364, -1.6510, -0.0459,  0.3631, -0.4555,  0.5872, -0.6955, -0.2496,\n",
       "          0.4541],\n",
       "        [-0.5199, -1.4598,  1.4809, -0.5296, -1.4100,  2.5280,  0.5804, -0.9284,\n",
       "          0.9980, -0.7382,  0.5828,  0.6865, -0.5352, -0.3123, -1.2477, -1.6916,\n",
       "         -2.0771,  0.9703, -0.6094,  1.4018, -0.1036,  0.5364, -1.7615, -1.5067,\n",
       "         -0.5230,  0.5667, -1.6076, -0.5847, -0.4096, -1.3761,  0.6366,  0.2417,\n",
       "         -0.3364, -1.6510, -0.0459,  0.5781, -0.6856,  0.5641, -0.5429, -0.2483,\n",
       "          0.5215],\n",
       "        [-0.1981,  1.0633,  0.9373, -1.5942,  0.1827, -0.7031,  0.0292, -0.7047,\n",
       "          0.1495, -0.7382,  0.5828,  0.6865, -0.5352, -0.3123, -1.2477, -1.6916,\n",
       "         -2.0771,  0.9703, -0.6094,  1.4018, -0.1036,  0.5364, -1.7615, -1.5067,\n",
       "         -0.5230,  0.5667, -1.6076, -0.5847, -0.4096, -1.3761,  0.6366,  0.2417,\n",
       "         -0.3364, -1.6510, -0.0459,  0.5555, -0.5352,  0.2259,  0.4805, -0.2447,\n",
       "          0.7239]], device='cuda:0', grad_fn=<SelectBackward>)"
      ]
     },
     "execution_count": null,
     "metadata": {},
     "output_type": "execute_result"
    }
   ],
   "source": [
    "multi_em_pad = MultiEmbedding(n_embeds, padding_idx=0, n_cont=n_cont).cuda()\n",
    "tsr_em = multi_em_pad(padded_batch[0], padded_batch[1])\n",
    "tsr_em[0]"
   ]
  },
  {
   "cell_type": "markdown",
   "id": "f2631d51-db1e-45e1-a377-952d32d29491",
   "metadata": {},
   "source": [
    "Notice how the dimension with all zeros (the default padding index) are also filled in with all zeros in the resulting tensor."
   ]
  },
  {
   "cell_type": "markdown",
   "id": "176bfb84-0ebe-409e-a02c-f5204684d7a3",
   "metadata": {},
   "source": [
    "## Full Architecture"
   ]
  },
  {
   "cell_type": "markdown",
   "id": "900283ee-2870-414b-a0d8-b7730cb5316c",
   "metadata": {},
   "source": [
    "Now we are ready to plug in the embedding to any `tsai` learner. Our architecture is fairly straightforward:\n",
    "+ `head` is the head of the network and runs the data through the `multiEmbedding` layer\n",
    "+ `body` takes the output of `head` and run it through the desired architecture selected by the user in `ts_arch`"
   ]
  },
  {
   "cell_type": "code",
   "execution_count": null,
   "id": "122ec3f1-fcc9-4011-9603-9def295ce412",
   "metadata": {},
   "outputs": [],
   "source": [
    "#export\n",
    "\n",
    "@delegates(MultiEmbedding.__init__)\n",
    "class footSeqModel(Module):\n",
    "    \"Sequence model with an embedding head.\"\n",
    "\n",
    "    def __init__(self, ts_arch: Module, n_cont: int, c_out: int, ts_kwargs, **kwargs):\n",
    "        \"\"\"\n",
    "        Intialise the model architecture\n",
    "\n",
    "        Parameters\n",
    "        ----------\n",
    "        ts_arch: Module\n",
    "            one of tsai Model architectures\n",
    "        ts_kwargs: dict\n",
    "            any of the inputs accepted by the selected architecture a part from `c_out`\n",
    "        c_out: int\n",
    "            number of output layers\n",
    "        n_cont: int\n",
    "            number of continuous features\n",
    "        kwarsgs: dict\n",
    "            all parameters accepted by the `MultiEmbedding` layer\n",
    "\n",
    "        \"\"\"\n",
    "        ## head of the network\n",
    "        kwargs[\"n_cont\"] = n_cont\n",
    "        self.head = MultiEmbedding(**kwargs)\n",
    "        \n",
    "        ## inialise the body\n",
    "        self.c_out, self.n_cont = c_out, n_cont\n",
    "        self.c_in = L(w.weight.shape[-1] for w in self.head.cat_embed).sum() + n_cont\n",
    "        ts_kwargs[\"c_in\"], ts_kwargs[\"c_out\"] = self.c_in, self.c_out\n",
    "        self.body = ts_arch(**ts_kwargs)\n",
    "        \n",
    "\n",
    "    def forward(self, x_cat, x_cont):\n",
    "        ## run through head first\n",
    "        x = self.head(x_cat, x_cont)\n",
    "        \n",
    "        return self.body(x.transpose(2, 1))"
   ]
  },
  {
   "cell_type": "code",
   "execution_count": null,
   "id": "a2f474eb-7b05-49df-9ce4-cf8420d7eefa",
   "metadata": {},
   "outputs": [
    {
     "data": {
      "text/plain": [
       "footSeqModel(\n",
       "  (head): MultiEmbedding(\n",
       "    (cat_embed): ModuleList(\n",
       "      (0): Embedding(22, 9)\n",
       "      (1): Embedding(4, 3)\n",
       "      (2): Embedding(10, 6)\n",
       "      (3): Embedding(3, 3)\n",
       "      (4): Embedding(3, 3)\n",
       "      (5): Embedding(3, 3)\n",
       "      (6): Embedding(3, 3)\n",
       "      (7): Embedding(7, 5)\n",
       "    )\n",
       "  )\n",
       "  (body): LSTM(\n",
       "    (rnn): LSTM(41, 100, num_layers=2, batch_first=True, bidirectional=True)\n",
       "    (fc): Linear(in_features=200, out_features=2, bias=True)\n",
       "  )\n",
       ")"
      ]
     },
     "execution_count": null,
     "metadata": {},
     "output_type": "execute_result"
    }
   ],
   "source": [
    "from tsai.models.RNN import *\n",
    "\n",
    "n_cont = padded_batch[1].shape[-1]\n",
    "ts_model = LSTM\n",
    "ts_args = {\"n_layers\":2, \"bidirectional\":True}\n",
    "model = footSeqModel(ts_arch=ts_model, n_cont=n_cont, c_out=2, ts_kwargs=ts_args, n_embeds=n_embeds).cuda()\n",
    "model"
   ]
  },
  {
   "cell_type": "code",
   "execution_count": null,
   "id": "c3808704-6ee1-4351-ba81-7990868a9c0c",
   "metadata": {},
   "outputs": [
    {
     "data": {
      "text/plain": [
       "tensor([[ 0.0375,  0.0235],\n",
       "        [-0.0329,  0.0624],\n",
       "        [ 0.0071,  0.0449],\n",
       "        [ 0.0592,  0.0041],\n",
       "        [-0.0337,  0.0609]], device='cuda:0', grad_fn=<AddmmBackward>)"
      ]
     },
     "execution_count": null,
     "metadata": {},
     "output_type": "execute_result"
    }
   ],
   "source": [
    "model(padded_batch[0], padded_batch[1])"
   ]
  },
  {
   "cell_type": "markdown",
   "id": "6b285822-0482-4dea-90be-0719ed79454d",
   "metadata": {},
   "source": [
    "# Learner"
   ]
  },
  {
   "cell_type": "markdown",
   "id": "401236d6-8454-4c51-98f5-b77d9dff903e",
   "metadata": {},
   "source": [
    "Defining a learner at this stage is straightforward, we just need to decide on the appropriate loss function to use, pass the `dataloaders` and the metrics we want to track:"
   ]
  },
  {
   "cell_type": "code",
   "execution_count": null,
   "id": "2a2eccdd-1c79-47c0-8013-244c79a8e32e",
   "metadata": {},
   "outputs": [
    {
     "data": {
      "text/html": [],
      "text/plain": [
       "<IPython.core.display.HTML object>"
      ]
     },
     "metadata": {},
     "output_type": "display_data"
    },
    {
     "data": {
      "text/plain": [
       "SuggestedLRs(valley=0.002511886414140463)"
      ]
     },
     "execution_count": null,
     "metadata": {},
     "output_type": "execute_result"
    },
    {
     "data": {
      "image/png": "[encoded data removed]",
      "text/plain": [
       "<Figure size 432x288 with 1 Axes>"
      ]
     },
     "metadata": {
      "needs_background": "light"
     },
     "output_type": "display_data"
    }
   ],
   "source": [
    "from fastai.metrics import *\n",
    "learn = Learner(srtd_dls, model, loss_func=CrossEntropyLossFlat(), metrics=[accuracy])\n",
    "learn.lr_find()"
   ]
  },
  {
   "cell_type": "code",
   "execution_count": null,
   "id": "ba85f41a-d079-4d9f-a186-65a24fb688bd",
   "metadata": {},
   "outputs": [
    {
     "data": {
      "text/html": [
       "\n",
       "    <div>\n",
       "        <style>\n",
       "            /* Turns off some styling */\n",
       "            progress {\n",
       "                /* gets rid of default border in Firefox and Opera. */\n",
       "                border: none;\n",
       "                /* Needs to be in here for Safari polyfill so background images work as expected. */\n",
       "                background-size: auto;\n",
       "            }\n",
       "            .progress-bar-interrupted, .progress-bar-interrupted::-webkit-progress-bar {\n",
       "                background: #F44336;\n",
       "            }\n",
       "        </style>\n",
       "      <progress value='0' class='' max='2' style='width:300px; height:20px; vertical-align: middle;'></progress>\n",
       "      0.00% [0/2 00:00<00:00]\n",
       "    </div>\n",
       "    \n",
       "<table border=\"1\" class=\"dataframe\">\n",
       "  <thead>\n",
       "    <tr style=\"text-align: left;\">\n",
       "      <th>epoch</th>\n",
       "      <th>train_loss</th>\n",
       "      <th>valid_loss</th>\n",
       "      <th>accuracy</th>\n",
       "      <th>time</th>\n",
       "    </tr>\n",
       "  </thead>\n",
       "  <tbody>\n",
       "  </tbody>\n",
       "</table><p>\n",
       "\n",
       "    <div>\n",
       "        <style>\n",
       "            /* Turns off some styling */\n",
       "            progress {\n",
       "                /* gets rid of default border in Firefox and Opera. */\n",
       "                border: none;\n",
       "                /* Needs to be in here for Safari polyfill so background images work as expected. */\n",
       "                background-size: auto;\n",
       "            }\n",
       "            .progress-bar-interrupted, .progress-bar-interrupted::-webkit-progress-bar {\n",
       "                background: #F44336;\n",
       "            }\n",
       "        </style>\n",
       "      <progress value='2167' class='' max='91592' style='width:300px; height:20px; vertical-align: middle;'></progress>\n",
       "      2.37% [2167/91592 00:27<18:57 0.0459]\n",
       "    </div>\n",
       "    "
      ],
      "text/plain": [
       "<IPython.core.display.HTML object>"
      ]
     },
     "metadata": {},
     "output_type": "display_data"
    }
   ],
   "source": [
    "learn.fit_one_cycle(2, 2e-3)"
   ]
  },
  {
   "cell_type": "code",
   "execution_count": null,
   "id": "18e9d72f-bdb9-4aa0-b4cc-072743ce668f",
   "metadata": {},
   "outputs": [],
   "source": []
  }
 ],
 "metadata": {
  "kernelspec": {
   "display_name": "Python 3 (ipykernel)",
   "language": "python",
   "name": "python3"
  }
 },
 "nbformat": 4,
 "nbformat_minor": 5
}
