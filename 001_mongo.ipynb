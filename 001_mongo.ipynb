{
 "cells": [
  {
   "cell_type": "code",
   "execution_count": null,
   "id": "8daa45fe-f0bf-409d-ba6c-257e24d0e4ec",
   "metadata": {},
   "outputs": [],
   "source": [
    "# default_exp config.mongo"
   ]
  },
  {
   "cell_type": "markdown",
   "id": "1a04161b-d163-47aa-87c0-18b86386c07e",
   "metadata": {},
   "source": [
    "<h1><center>Mongo</center></h1>\n",
    "\n",
    "In this section, we will define the tools needed to connect and extract data from mongoDB. It will be mainly based on functions from `mongoEngine`"
   ]
  },
  {
   "cell_type": "markdown",
   "id": "8ccfc740-3a8e-4172-a1dc-2e6aa5eb0cc0",
   "metadata": {},
   "source": [
    "# Connection\n",
    "In order to establish connection, we will reply on the `mongoengine.register_connection()` function and the credentials provided in the config file. Note that only connection to a handful of cluster databases is allowed (their info is stored in `DBS_CONFIG`)"
   ]
  },
  {
   "cell_type": "code",
   "execution_count": null,
   "id": "0df6453f-c4f7-4a43-ae2e-2b91b848cf81",
   "metadata": {},
   "outputs": [],
   "source": [
    "# export\n",
    "from typing import Optional\n",
    "\n",
    "import mongoengine\n",
    "\n",
    "from footSeq.config.localconfig import CONFIG, DB_HOSTS\n",
    "\n",
    "\n",
    "def db_connect(db_host: str, db_name: str, db_alias: Optional[str] = None):\n",
    "    \"\"\"Connect to the apprpriate mongo database\n",
    "\n",
    "    The function will form the appropriate uri-string and then pass it to `mongoengine.resgister_connection()`\n",
    "\n",
    "    Parameters\n",
    "    ----------\n",
    "    db_host : str\n",
    "        Host name as defined in `DB_HOSTS`\n",
    "    db_name: str\n",
    "        Name of the database to connect to\n",
    "    db_alias: str, optional\n",
    "        alias of the database we are connecting to. If not provided, we will use `db_name`\n",
    "\n",
    "    \"\"\"\n",
    "    # check that the host name provided is valid\n",
    "    if db_host not in DB_HOSTS:\n",
    "        raise ValueError(\n",
    "            \"db-host provided {db_host} should be one of {hosts}:\".format(\n",
    "                db_host=db_host, hosts=DB_HOSTS\n",
    "            )\n",
    "        )\n",
    "\n",
    "    # decide on the alias to apply\n",
    "    db_alias = db_name if not db_name else db_alias\n",
    "\n",
    "    # read config for the appropriate database\n",
    "    db_config = CONFIG[\"databases\"][db_host]\n",
    "\n",
    "    # form the mongo-url i.e check if we need the port\n",
    "    db_url = (\n",
    "        db_config[\"url\"]\n",
    "        if not db_config[\"port\"]\n",
    "        else db_config[\"url\"] + \":\" + db_config[\"port\"]\n",
    "    )\n",
    "\n",
    "    db_uri = \"{base_url}{user}:{password}@{url}/{db}\".format(\n",
    "        base_url=db_config[\"mongo_base\"],\n",
    "        user=db_config[\"user\"],\n",
    "        password=db_config[\"password\"],\n",
    "        url=db_url,\n",
    "        db=db_name,\n",
    "    )\n",
    "    # add optional argument\n",
    "    optional_uri = []\n",
    "    if db_config[\"majority\"]:\n",
    "        optional_uri.append(\"w={majority}\".format(majority=\"majority\"))\n",
    "    if db_config[\"retry_writes\"]:\n",
    "        optional_uri.append(\n",
    "            \"retryWrites={majority}\".format(\n",
    "                majority=str(db_config[\"retry_writes\"]).lower()\n",
    "            )\n",
    "        )\n",
    "    if db_config[\"authSource\"]:\n",
    "        optional_uri.append(\n",
    "            \"authSource={auth_db}\".format(auth_db=db_config[\"authSource\"])\n",
    "        )\n",
    "\n",
    "    if optional_uri:\n",
    "        db_uri += \"?\" + \"&\".join(optional_uri)\n",
    "\n",
    "    mongoengine.register_connection(host=db_uri, alias=db_alias, name=db_name)"
   ]
  },
  {
   "cell_type": "markdown",
   "id": "4309cd34-f0b6-4621-a13a-ae1a1f1d512b",
   "metadata": {},
   "source": [
    "Here we register the connection to the database where the `lineups` info are saved. It will be used later to extract the lineup information needed to derive players' based features"
   ]
  },
  {
   "cell_type": "code",
   "execution_count": null,
   "id": "8dd76c32-8a66-464d-9594-64d1b544db6a",
   "metadata": {},
   "outputs": [],
   "source": [
    "features_con = CONFIG[\"connections\"][\"inStat\"]\n",
    "db_connect(db_host=\"prod_atlas\", db_name=features_con[\"db\"], db_alias=\"inStat\")"
   ]
  },
  {
   "cell_type": "markdown",
   "id": "5b98d8a5-02c6-4dd6-8ca6-7e6066887001",
   "metadata": {},
   "source": [
    "We will need a function to set-up all the mongoDB connections. It should be called when the package is initialised:"
   ]
  },
  {
   "cell_type": "code",
   "execution_count": null,
   "id": "096fbd62-2635-493e-b917-b5c4a7846cca",
   "metadata": {},
   "outputs": [],
   "source": [
    "# export\n",
    "\n",
    "\n",
    "def mongo_init(db_host: str):\n",
    "    \"\"\"\n",
    "    Register all the required mongo connections\n",
    "\n",
    "    Parameters\n",
    "    ----------\n",
    "    db_host : str\n",
    "        Host name as defined in `DB_HOSTS`\n",
    "\n",
    "    \"\"\"\n",
    "    # check that the host name provided is valid\n",
    "    if db_host not in DB_HOSTS:\n",
    "        raise ValueError(\n",
    "            \"db-host provided {db_host} should be one of {hosts}:\".format(\n",
    "                db_host=db_host, hosts=DB_HOSTS\n",
    "            )\n",
    "        )\n",
    "\n",
    "    ## features db\n",
    "    db_connect(\n",
    "        db_host=db_host,\n",
    "        db_name=CONFIG[\"connections\"][\"inStat\"][\"db\"],\n",
    "        db_alias=\"inStat\",\n",
    "    )\n",
    "\n",
    "    ## mapping db\n",
    "    db_connect(\n",
    "        db_host=db_host,\n",
    "        db_name=CONFIG[\"connections\"][\"mapping\"][\"db\"],\n",
    "        db_alias=\"mapping\",\n",
    "    )"
   ]
  }
 ],
 "metadata": {
  "kernelspec": {
   "display_name": "Python 3 (ipykernel)",
   "language": "python",
   "name": "python3"
  }
 },
 "nbformat": 4,
 "nbformat_minor": 5
}
