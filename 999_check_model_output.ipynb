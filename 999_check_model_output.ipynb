{
 "cells": [
  {
   "cell_type": "code",
   "execution_count": null,
   "id": "38979fef-c806-4918-9d62-298a89aca395",
   "metadata": {},
   "outputs": [],
   "source": [
    "%load_ext autoreload\n",
    "%autoreload 2\n",
    "from IPython.core.debugger import set_trace\n",
    "from IPython.utils import traitlets as _traitlets"
   ]
  },
  {
   "cell_type": "markdown",
   "id": "af240c0a-1b89-4eb3-9843-4541a130c642",
   "metadata": {},
   "source": [
    "<h1><center> Analyzing Learner Output </center></h1>"
   ]
  },
  {
   "cell_type": "markdown",
   "id": "21b4f3cf-e6a6-403d-aee1-5e7cb98857d2",
   "metadata": {},
   "source": [
    "In this notebook, we will investigate the model predictions and will try to identify any potential biases. In particular, we will be after any pattern that could allow us to improve the model:\n",
    "+ We will investigate the probability distribution by action type\n",
    "+ We will investigate the spatial distribution of actions by type"
   ]
  },
  {
   "cell_type": "code",
   "execution_count": null,
   "id": "1416c9ea-b4f3-4f36-8554-643f27982a2a",
   "metadata": {},
   "outputs": [],
   "source": [
    "import glob\n",
    "import os\n",
    "import pickle\n",
    "import tempfile\n",
    "import warnings\n",
    "from pathlib import Path\n",
    "from random import sample\n",
    "from typing import List, Tuple\n",
    "\n",
    "import numpy as np\n",
    "import pandas as pd\n",
    "from fastcore.basics import *\n",
    "from fastcore.foundation import *\n",
    "from fastcore.xtras import load_pickle, save_pickle\n",
    "from progressbar import progressbar\n",
    "from tsai.all import *\n",
    "\n",
    "from footSeq.datastruct.core import *\n",
    "from footSeq.datastruct.possessions import *\n",
    "from footSeq.model.learner import *\n",
    "from footSeq.plots import *"
   ]
  },
  {
   "cell_type": "code",
   "execution_count": null,
   "id": "72575937-78f4-40d5-b6e9-8293f08c9127",
   "metadata": {},
   "outputs": [],
   "source": [
    "from footSeq.config.mongo import mongo_init\n",
    "\n",
    "mongo_init(\"prod_atlas\")\n",
    "\n",
    "data_path = Path(\"/sequences\")\n",
    "metadata_path = Path(\"./data\")\n",
    "files_list_path = metadata_path / \"file_list.pkl\"\n",
    "\n",
    "if os.path.isfile(files_list_path):\n",
    "    all_files = load_pickle(files_list_path)\n",
    "else:\n",
    "    files_db = L(\n",
    "        Path(os.path.join(data_path, obj[\"file_id\"] + \".csv\"))\n",
    "        for obj in progressbar(PossessionMetadata.objects.only(\"file_id\"))\n",
    "    )\n",
    "    disk_files = data_path.ls(file_exts=\".csv\")\n",
    "    all_files = list(set(files_db) & set(disk_files))\n",
    "    save_pickle(files_list_path, all_files)"
   ]
  },
  {
   "cell_type": "markdown",
   "id": "16ff1f00-4c57-4545-8a97-f52c718654ea",
   "metadata": {},
   "source": [
    "# Load a Learner"
   ]
  },
  {
   "cell_type": "markdown",
   "id": "f49d923c-e8e1-4020-9bdf-6999782c7abd",
   "metadata": {},
   "source": [
    "Let's start by loading the model we want to investigate:"
   ]
  },
  {
   "cell_type": "code",
   "execution_count": null,
   "id": "fea82534-af31-4ca4-b082-66a98b4f06e3",
   "metadata": {},
   "outputs": [
    {
     "name": "stdout",
     "output_type": "stream",
     "text": [
      "Learner loaded:\n",
      "path          = 'models/LSTM_FCN_bidir-True_layers-2_no_goal_prop-2_full_data'\n",
      "model_fname   = 'model.pth'\n",
      "learner_fname = 'learner.pkl'\n"
     ]
    }
   ],
   "source": [
    "model_name = \"LSTM_FCN_bidir-True_layers-2_no_goal_prop-2_full_data\"\n",
    "base_path = Path(\".\")\n",
    "\n",
    "learn = load_all(\n",
    "    path=base_path / \"models\" / model_name,\n",
    "    dls_fname=\"dls\",\n",
    "    model_fname=\"model\",\n",
    "    learner_fname=\"learner\",\n",
    "    verbose=True,\n",
    ")"
   ]
  },
  {
   "cell_type": "markdown",
   "id": "533587c1-af69-476c-9830-82b4c0dbb1b2",
   "metadata": {},
   "source": [
    "# Predict one game"
   ]
  },
  {
   "cell_type": "code",
   "execution_count": null,
   "id": "88f968f8-32c0-481b-acb9-eb936cae71d3",
   "metadata": {},
   "outputs": [],
   "source": [
    "from footSeq.config.mongo import mongo_init\n",
    "\n",
    "mongo_init(\"prod_atlas\")\n",
    "\n",
    "game_id = 2212056\n",
    "\n",
    "game_probs = learn.predict_game(game_id, save=True)\n",
    "\n",
    "game_probs.to_csv(\"/home/tarak/Downloads/action_values_\" + str(game_id) +\".csv\")"
   ]
  },
  {
   "cell_type": "markdown",
   "id": "75d95ae3-f204-461f-b283-607a7ef649b6",
   "metadata": {},
   "source": [
    "# Data preparation"
   ]
  },
  {
   "cell_type": "markdown",
   "id": "9d1b4ae7-135e-469a-96c5-cdfe278b7f6b",
   "metadata": {},
   "source": [
    "Next, we will select a number of files to test the model on. Ideally, these files should not be part of the training/validation set."
   ]
  },
  {
   "cell_type": "code",
   "execution_count": null,
   "id": "4550a1ac-9780-426b-b6cc-b17d67d4bb24",
   "metadata": {},
   "outputs": [],
   "source": [
    "# hide\n",
    "data_path = Path(\"/sequences\")\n",
    "used_files = learn.dls.tfms.train_files + learn.dls.tfms.valid_files\n",
    "all_files = data_path.ls(file_exts=\".csv\")\n",
    "\n",
    "test_files = L(set(all_files) - set(used_files))\n",
    "train_goals, test_goals, no_goals = pick_files(test_files[:500000])"
   ]
  },
  {
   "cell_type": "code",
   "execution_count": null,
   "id": "6a5d452e-5f7d-44ed-9fbe-9294fe7241dc",
   "metadata": {},
   "outputs": [],
   "source": [
    "# hide\n",
    "no_goal_prop = 2\n",
    "goals_info = pd.concat([train_goals, test_goals], axis=0)\n",
    "n_no_goals = int(goals_info.shape[0] * no_goal_prop)\n",
    "\n",
    "files_info = (\n",
    "    pd.concat([goals_info, no_goals.sample(n_no_goals)], axis=0)\n",
    "    .sample(frac=1, ignore_index=True)\n",
    "    .sort_values([\"gameId\", \"possNumber\", \"nSteps\"])\n",
    "    .drop_duplicates([\"gameId\", \"possNumber\"], keep=\"last\")\n",
    ")"
   ]
  },
  {
   "cell_type": "code",
   "execution_count": null,
   "id": "d75f6529-8512-490f-bdff-24986b76b7e4",
   "metadata": {},
   "outputs": [],
   "source": [
    "# hide\n",
    "files_info.groupby(\"target\").size()"
   ]
  },
  {
   "cell_type": "markdown",
   "id": "810f11af-80b0-42cb-bb40-eacf0627894f",
   "metadata": {},
   "source": [
    "Finally, we can now run some predictions that can be used in the analysis steps:"
   ]
  },
  {
   "cell_type": "code",
   "execution_count": null,
   "id": "5e9d45d5-9b66-4fba-a2f2-f0972cc79407",
   "metadata": {},
   "outputs": [],
   "source": [
    "# hide\n",
    "def _prob(file):\n",
    "    try:\n",
    "        _probs = learn.predict_poss(pd.read_csv(file))\n",
    "    except:\n",
    "        _probs = None\n",
    "    return _probs\n",
    "\n",
    "\n",
    "probs_file_path = Path(\"./models\") / model_name / \"sample_probs.csv\"\n",
    "if os.path.isfile(probs_file_path):\n",
    "    probs = pd.read_csv(probs_file_path)\n",
    "else:\n",
    "    n_files = 500 if files_info.shape[0] > 500 else files_info.shape[0]\n",
    "    probs = pd.concat(\n",
    "        [_prob(file) for file in files_info.sample(n_files).file]\n",
    "    ).reset_index(drop=True)\n",
    "    probs.to_csv(Path(\"./models\") / model_name / \"sample_probs.csv\")"
   ]
  },
  {
   "cell_type": "markdown",
   "id": "89e2e030-67e2-4783-a73a-58fbf43f29e1",
   "metadata": {},
   "source": [
    "# Probability distribution by action"
   ]
  },
  {
   "cell_type": "markdown",
   "id": "1b93d538-1951-43dd-8a89-50e00cd42298",
   "metadata": {},
   "source": [
    "The first step in our analysis is to investigate the distribution of probability by action type. It should allow us to identify some obvious issues in our data-preparation or how we present the data to the network:"
   ]
  },
  {
   "cell_type": "code",
   "execution_count": null,
   "id": "51ff419b-aefe-4a5b-afc0-b7f065f70384",
   "metadata": {},
   "outputs": [],
   "source": [
    "# hide\n",
    "probs.groupby([\"generic_action_type_name\", \"type_name\"])[\n",
    "    \"proba_goal\"\n",
    "].describe().sort_values([\"generic_action_type_name\", \"50%\"])"
   ]
  },
  {
   "cell_type": "markdown",
   "id": "fe5bd12a-a86d-4896-abf4-8df52cc412b0",
   "metadata": {},
   "source": [
    "# Spatial distribution of probability by action"
   ]
  },
  {
   "cell_type": "markdown",
   "id": "8a89c279-9d12-4ff1-bc33-25c2aa978aaa",
   "metadata": {},
   "source": [
    "It also useful to visualize the distribution of the probability mass over the pitch for a given action and see if it is line with our intuition:"
   ]
  },
  {
   "cell_type": "code",
   "execution_count": null,
   "id": "6848fa16-f39a-48d8-b13d-5faefbf0f3a3",
   "metadata": {},
   "outputs": [],
   "source": [
    "# hide\n",
    "action_name = \"Shot on target\"\n",
    "hm_tabl = dens_prob(probs[probs.type_name == action_name])\n",
    "_ = plot_heatmap(\n",
    "    dens_arr=hm_tabl,\n",
    "    fieldcolor=\"white\",\n",
    "    linecolor=\"black\",\n",
    "    cmap=\"Blues\",\n",
    "    title=action_name,\n",
    ")"
   ]
  },
  {
   "cell_type": "code",
   "execution_count": null,
   "id": "59cdf96d-b47e-402d-92c7-2f093db066e6",
   "metadata": {},
   "outputs": [],
   "source": [
    "## TODO: plot it multiple actions on a pitch"
   ]
  },
  {
   "cell_type": "code",
   "execution_count": null,
   "id": "b96aeddb-9de7-4167-8fbb-903e3e9582e5",
   "metadata": {},
   "outputs": [],
   "source": []
  },
  {
   "cell_type": "code",
   "execution_count": null,
   "id": "10f2bf91-70e7-4af4-a203-dde46c5750a1",
   "metadata": {},
   "outputs": [],
   "source": []
  }
 ],
 "metadata": {
  "kernelspec": {
   "display_name": "Python 3 (ipykernel)",
   "language": "python",
   "name": "python3"
  }
 },
 "nbformat": 4,
 "nbformat_minor": 5
}
